{
  "nbformat": 4,
  "nbformat_minor": 0,
  "metadata": {
    "colab": {
      "provenance": [],
      "gpuType": "T4"
    },
    "kernelspec": {
      "name": "python3",
      "display_name": "Python 3"
    },
    "language_info": {
      "name": "python"
    },
    "accelerator": "GPU"
  },
  "cells": [
    {
      "cell_type": "code",
      "execution_count": 8,
      "metadata": {
        "colab": {
          "base_uri": "https://localhost:8080/"
        },
        "id": "sbWNRYN2Z5Py",
        "outputId": "8432c8bd-121e-41a5-c926-0b8d4c79e303",
        "collapsed": true
      },
      "outputs": [
        {
          "output_type": "stream",
          "name": "stdout",
          "text": [
            "Requirement already satisfied: transformers in /usr/local/lib/python3.10/dist-packages (4.46.2)\n",
            "Requirement already satisfied: filelock in /usr/local/lib/python3.10/dist-packages (from transformers) (3.16.1)\n",
            "Requirement already satisfied: huggingface-hub<1.0,>=0.23.2 in /usr/local/lib/python3.10/dist-packages (from transformers) (0.26.2)\n",
            "Requirement already satisfied: numpy>=1.17 in /usr/local/lib/python3.10/dist-packages (from transformers) (1.26.4)\n",
            "Requirement already satisfied: packaging>=20.0 in /usr/local/lib/python3.10/dist-packages (from transformers) (24.2)\n",
            "Requirement already satisfied: pyyaml>=5.1 in /usr/local/lib/python3.10/dist-packages (from transformers) (6.0.2)\n",
            "Requirement already satisfied: regex!=2019.12.17 in /usr/local/lib/python3.10/dist-packages (from transformers) (2024.9.11)\n",
            "Requirement already satisfied: requests in /usr/local/lib/python3.10/dist-packages (from transformers) (2.32.3)\n",
            "Requirement already satisfied: safetensors>=0.4.1 in /usr/local/lib/python3.10/dist-packages (from transformers) (0.4.5)\n",
            "Requirement already satisfied: tokenizers<0.21,>=0.20 in /usr/local/lib/python3.10/dist-packages (from transformers) (0.20.3)\n",
            "Requirement already satisfied: tqdm>=4.27 in /usr/local/lib/python3.10/dist-packages (from transformers) (4.66.6)\n",
            "Requirement already satisfied: fsspec>=2023.5.0 in /usr/local/lib/python3.10/dist-packages (from huggingface-hub<1.0,>=0.23.2->transformers) (2024.10.0)\n",
            "Requirement already satisfied: typing-extensions>=3.7.4.3 in /usr/local/lib/python3.10/dist-packages (from huggingface-hub<1.0,>=0.23.2->transformers) (4.12.2)\n",
            "Requirement already satisfied: charset-normalizer<4,>=2 in /usr/local/lib/python3.10/dist-packages (from requests->transformers) (3.4.0)\n",
            "Requirement already satisfied: idna<4,>=2.5 in /usr/local/lib/python3.10/dist-packages (from requests->transformers) (3.10)\n",
            "Requirement already satisfied: urllib3<3,>=1.21.1 in /usr/local/lib/python3.10/dist-packages (from requests->transformers) (2.2.3)\n",
            "Requirement already satisfied: certifi>=2017.4.17 in /usr/local/lib/python3.10/dist-packages (from requests->transformers) (2024.8.30)\n",
            "Requirement already satisfied: sacremoses in /usr/local/lib/python3.10/dist-packages (0.1.1)\n",
            "Requirement already satisfied: regex in /usr/local/lib/python3.10/dist-packages (from sacremoses) (2024.9.11)\n",
            "Requirement already satisfied: click in /usr/local/lib/python3.10/dist-packages (from sacremoses) (8.1.7)\n",
            "Requirement already satisfied: joblib in /usr/local/lib/python3.10/dist-packages (from sacremoses) (1.4.2)\n",
            "Requirement already satisfied: tqdm in /usr/local/lib/python3.10/dist-packages (from sacremoses) (4.66.6)\n"
          ]
        }
      ],
      "source": [
        "!pip install transformers\n",
        "!pip install sacremoses"
      ]
    },
    {
      "cell_type": "code",
      "source": [
        "from transformers import pipeline\n",
        "import sacremoses"
      ],
      "metadata": {
        "id": "hEkJaMcvaIxz"
      },
      "execution_count": 9,
      "outputs": []
    },
    {
      "cell_type": "code",
      "source": [
        "pipe = pipeline(\"text-generation\", model=\"microsoft/biogpt\", max_length=1000, truncation=False)"
      ],
      "metadata": {
        "id": "mqjJ0FeBaTbf",
        "collapsed": true
      },
      "execution_count": 10,
      "outputs": []
    },
    {
      "cell_type": "code",
      "source": [
        "generation_tag = \"The important background information needed to understand this text is \""
      ],
      "metadata": {
        "id": "sSRIhjnvow21"
      },
      "execution_count": 11,
      "outputs": []
    },
    {
      "cell_type": "code",
      "source": [
        "import json\n",
        "import requests\n",
        "from pprint import pprint\n",
        "\n",
        "def augment_data(url):\n",
        "  response = requests.get(url)\n",
        "\n",
        "  text = json.loads(response.text)\n",
        "\n",
        "  keys = list(text.keys())\n",
        "  data = {}\n",
        "  i = 0\n",
        "  # Iterate through the loaded JSON data\n",
        "  while i < len(keys):\n",
        "    line = text[keys[i]]\n",
        "    line['abstract'] = (pipe(line['abstract']+generation_tag)[0]['generated_text'])\n",
        "    i += 1\n",
        "\n",
        "  return text"
      ],
      "metadata": {
        "id": "2zZ-1MlmFxmS"
      },
      "execution_count": 12,
      "outputs": []
    },
    {
      "cell_type": "code",
      "source": [
        "test_augmented = augment_data('https://raw.githubusercontent.com/UpatelPenn/DS340W-Project/main/RE-Data/BC5CDR/test.json')\n",
        "\n",
        "with open(\"test_out.json\", \"w\") as outfile:\n",
        "    json.dump(test_augmented, outfile)"
      ],
      "metadata": {
        "id": "WMUIb73xs1Rx"
      },
      "execution_count": 6,
      "outputs": []
    },
    {
      "cell_type": "code",
      "source": [
        "train_augmented = augment_data('https://raw.githubusercontent.com/UpatelPenn/DS340W-Project/main/RE-Data/BC5CDR/train.json')\n",
        "\n",
        "with open(\"train_out.json\", \"w\") as outfile:\n",
        "    json.dump(train_augmented, outfile)"
      ],
      "metadata": {
        "id": "-H9wrFTiV7tU"
      },
      "execution_count": 13,
      "outputs": []
    },
    {
      "cell_type": "code",
      "source": [
        "valid_augmented = augment_data('https://raw.githubusercontent.com/UpatelPenn/DS340W-Project/main/RE-Data/BC5CDR/valid.json')\n",
        "\n",
        "with open(\"valid_out.json\", \"w\") as outfile:\n",
        "    json.dump(valid_augmented, outfile)"
      ],
      "metadata": {
        "id": "_73KzydAV74o"
      },
      "execution_count": 14,
      "outputs": []
    }
  ]
}